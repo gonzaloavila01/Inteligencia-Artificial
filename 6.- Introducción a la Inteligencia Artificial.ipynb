{
 "cells": [
  {
   "cell_type": "markdown",
   "id": "950d5fbb",
   "metadata": {},
   "source": [
    "# Introducción a la Inteligencia Artificial: El pro-ceso de razonamiento según la lógica"
   ]
  },
  {
   "cell_type": "markdown",
   "id": "8acc4705",
   "metadata": {},
   "source": [
    "La historia de Josephus describe un problema matemático/computacional conocido como el \"Problema de Josephus\". En un contexto ficticio durante la guerra judeo-romana, Josephus y sus 40 soldados se encuentran atrapados en una caverna y enfrentan la elección de suicidarse antes de ser capturados por el enemigo. Josephus propone un método donde los soldados se sientan en un círculo y cada uno mata al que tiene a su izquierda, continuando hasta que solo queda un sobreviviente.\n",
    "\n",
    "La peculiaridad radica en que el último sobreviviente debe suicidarse, y no hay otros miembros del grupo para verificar esto. Josephus elige estratégicamente su posición en el círculo para ser el último superviviente. La pregunta clave es en qué lugar se sienta Josephus para lograr esto.\n",
    "\n",
    "El problema se generaliza más allá de los 41 soldados, y el desafío radica en encontrar una estrategia o fórmula que determine la posición ganadora sin necesidad de recorrer todos los pasos intermedios. Este problema es conocido en el ámbito matemático y de programación, y se busca una solución general independiente del número específico de soldados.\n",
    "\n",
    "Estas son las posiciones en que se sentaran los soldados:"
   ]
  },
  {
   "cell_type": "markdown",
   "id": "cecf5f6f",
   "metadata": {},
   "source": [
    "<img src=\"Captura de pantalla 2023-12-13 173451.png\" alt=\"Alt text\" width=\"34%\">"
   ]
  },
  {
   "cell_type": "markdown",
   "id": "59bd7e22-8a12-4ee2-b1cc-3dd5511cddaa",
   "metadata": {},
   "source": [
    "## Planteamiento matemático:\n",
    "Sea J(n) la posición en la que se sienta Josephus cuando hay n soldados. La idea es encontrar una expresión o fórmula para J(n).\n",
    "Caso base:\n",
    "Cuando hay un solo soldado (n=1), Josephus es el único y sobrevive. Por lo tanto, J(1)=1.\n",
    "Paso inductivo:\n",
    "Supongamos que ya hemos determinado J(k) para k<n soldados. Ahora, queremos encontrar J(n) para n soldados. El soldado en la posición J(n) matará al soldado en la posición (J(n)+1)modn. Queremos encontrar J(n) de manera que Josephus sea el último sobreviviente.\n",
    "La posición (J(n)+1)modn será el sobreviviente cuando hay n−1 soldados restantes. Por lo tanto, queremos que J(n)=(J(n−1)+1)modn.\n",
    "## Estrategia de programación:\n",
    "Podemos resolver este problema recursivamente o mediante un enfoque iterativo. Aquí proporcionaré un ejemplo en Python utilizando un enfoque recursivo:"
   ]
  },
  {
   "cell_type": "code",
   "execution_count": 1,
   "id": "ae180d22-aed8-4c4c-8326-657938983b8d",
   "metadata": {},
   "outputs": [
    {
     "name": "stdout",
     "output_type": "stream",
     "text": [
      "Josephus se sienta en la posición: 19\n"
     ]
    }
   ],
   "source": [
    "def josephus(n):\n",
    "    if n == 1:\n",
    "        return 1\n",
    "    else:\n",
    "        # El sobreviviente en una ronda de (n-1) soldados\n",
    "        return (josephus(n-1) + 1) % n + 1\n",
    "\n",
    "# Ejemplo con 41 soldados\n",
    "resultado = josephus(41)\n",
    "print(\"Josephus se sienta en la posición:\", resultado)"
   ]
  },
  {
   "cell_type": "markdown",
   "id": "bccd626c-09e7-4a97-a014-0f954bacc382",
   "metadata": {},
   "source": [
    "Esto imprimirá la posición en la que Josephus debería sentarse para ser el último sobreviviente con 41 soldados. Puede probar con otros valores de soldados cambiando el argumento de la función josephus."
   ]
  }
 ],
 "metadata": {
  "kernelspec": {
   "display_name": "Python 3 (ipykernel)",
   "language": "python",
   "name": "python3"
  },
  "language_info": {
   "codemirror_mode": {
    "name": "ipython",
    "version": 3
   },
   "file_extension": ".py",
   "mimetype": "text/x-python",
   "name": "python",
   "nbconvert_exporter": "python",
   "pygments_lexer": "ipython3",
   "version": "3.10.6"
  }
 },
 "nbformat": 4,
 "nbformat_minor": 5
}
