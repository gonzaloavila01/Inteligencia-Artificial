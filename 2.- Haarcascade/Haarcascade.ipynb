{
 "cells": [
  {
   "cell_type": "code",
   "execution_count": 3,
   "id": "28224d3a-6c38-4555-9165-b6dfe89a8aaa",
   "metadata": {},
   "outputs": [],
   "source": [
    "import cv2 as cv\n",
    "\n",
    "cap = cv.VideoCapture(\"C:/Users/gonza/Downloads/Positivas.mp4\", cv.CAP_ANY)\n",
    "#cap = cv.VideoCapture(\"../Video/Entrenamiento Caras Negativo.mp4\", cv.CAP_ANY)\n",
    "i=0\n",
    "frames = 0\n",
    "intervalo = 10\n",
    "while True:\n",
    "    ret, frame = cap.read()\n",
    "    if not ret:\n",
    "        break\n",
    "    cara = frame\n",
    "    \n",
    "    frame3= cv.resize(cara, (72,72))\n",
    "    frame7= cv.flip(frame3, 1)\n",
    "    \n",
    "    cv.imshow('cara', cara)\n",
    "    cv.imshow('resize', frame3)\n",
    "    cv.imshow('flipped2', frame7)\n",
    "    \n",
    "    if frames % intervalo == 0:\n",
    "        i=i+1\n",
    "        cv.imwrite('C:/Users/gonza/OneDrive/Escritorio/Img/p/cara'+str(i)+'.jpg', frame3) #\n",
    "        i+=1\n",
    "        cv.imwrite('C:/Users/gonza/OneDrive/Escritorio/Img/p/cara'+str(i)+'.jpg', frame7) \n",
    "    frames+=1    \n",
    "    k = cv.waitKey(1)\n",
    "    if k== ord('q'):\n",
    "        break\n",
    "cap.release()\n",
    "cv.destroyAllWindows()"
   ]
  },
  {
   "cell_type": "code",
   "execution_count": 96,
   "id": "0f2dd902-35d9-4ed7-8c8a-6242d56207b1",
   "metadata": {},
   "outputs": [],
   "source": [
    "import cv2 as cv\n",
    "\n",
    "cubreBocas = cv.CascadeClassifier('C:/Users/gonza/OneDrive/Escritorio/Img/classifier/cascade.xml')\n",
    "#cap = cv.VideoCapture(\"C:/Users/gonza/Downloads/13.mp4\", cv.CAP_ANY)\n",
    "cap = cv.VideoCapture(0, cv.CAP_DSHOW)\n",
    "\n",
    "\n",
    "while True:\n",
    "    ret, frame = cap.read()\n",
    "    if not ret:\n",
    "        break\n",
    "    gray = cv.cvtColor(frame, cv.COLOR_BGR2GRAY)\n",
    "\n",
    "    conM = cubreBocas.detectMultiScale(gray, scaleFactor=1.2, minNeighbors=25, minSize=(80, 80))\n",
    "    for(x, y, w, h) in conM:\n",
    "        frame2 = cv.rectangle(frame, (x,y), (x+w, y+h), (0, 255, 0), 2)        \n",
    "        cv.putText(frame2, f'Cubreboca', (x, y-5), cv.FONT_HERSHEY_SIMPLEX, 0.5, (0, 255, 0), 2)\n",
    "        \n",
    "    cv.imshow('rostros', frame)\n",
    "    k = cv.waitKey(1)\n",
    "    if k== ord('q'):\n",
    "        break\n",
    "    \n",
    "cap.release()\n",
    "cv.destroyAllWindows()\n",
    "\n"
   ]
  },
  {
   "cell_type": "code",
   "execution_count": null,
   "id": "040bccff-dbf1-435f-9fcf-fb96975a3f10",
   "metadata": {},
   "outputs": [],
   "source": []
  },
  {
   "cell_type": "code",
   "execution_count": null,
   "id": "bee9b743-6a36-4f69-9365-246f3e0faad4",
   "metadata": {},
   "outputs": [],
   "source": []
  }
 ],
 "metadata": {
  "kernelspec": {
   "display_name": "Python 3 (ipykernel)",
   "language": "python",
   "name": "python3"
  },
  "language_info": {
   "codemirror_mode": {
    "name": "ipython",
    "version": 3
   },
   "file_extension": ".py",
   "mimetype": "text/x-python",
   "name": "python",
   "nbconvert_exporter": "python",
   "pygments_lexer": "ipython3",
   "version": "3.10.6"
  }
 },
 "nbformat": 4,
 "nbformat_minor": 5
}
