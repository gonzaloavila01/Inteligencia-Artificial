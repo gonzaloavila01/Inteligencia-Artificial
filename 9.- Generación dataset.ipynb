{
 "cells": [
  {
   "cell_type": "code",
   "execution_count": null,
   "metadata": {},
   "outputs": [],
   "source": [
    "import cv2 as cv\n",
    "\n",
    "rostro = cv.CascadeClassifier('C:/Users/gonza/Desktop/haarcascade_frontalface_alt.xml')\n",
    "cap = cv.VideoCapture(0)\n",
    "conta = 0\n",
    "while True:\n",
    "    ret, frame = cap.read()\n",
    "    gray = cv.cvtColor(frame, cv.COLOR_BGR2GRAY)\n",
    "    rostros = rostro.detectMultiScale(gray, 1.3, 5)\n",
    "    for(x, y, w, h) in rostros:\n",
    "        # CARA\n",
    "        frame = cv.rectangle(frame, ((x-90),(y-90)), (x+w+90, y+h+90), (0, 255, 0), 5)\n",
    "\n",
    "        frame2 = frame[(y-30):(y+h+30), (x-30):(x+w+30)]\n",
    "        frame3 = cv.resize(frame2, (30, 30))\n",
    "        if conta <= 10000:\n",
    "            conta += 1\n",
    "            direccion = 'C:/Users/gonza/Desktop/Rostros//' + str(conta) + '.jpg'\n",
    "            cv.imwrite(direccion, frame3)\n",
    "        else:\n",
    "            frame = cv.rectangle(frame, ((x-30),(y-30)), (x+w+30, y+h+30), (0, 0, 255), 5)\n",
    "        cv.imshow('cara', frame2)\n",
    "        cv.imshow('rostros', frame)\n",
    "    # cv.imwrite('C:\\Users\\gonza\\Desktop\\Dataset\\Cara'+str(i)+'.jpg', frame)\n",
    "    k = cv.waitKey(10)\n",
    "    if k == ord('s'):\n",
    "        break\n",
    "cap.release()\n",
    "cv.destroyAllWindows()"
   ]
  }
 ],
 "metadata": {
  "language_info": {
   "name": "python"
  }
 },
 "nbformat": 4,
 "nbformat_minor": 5
}
